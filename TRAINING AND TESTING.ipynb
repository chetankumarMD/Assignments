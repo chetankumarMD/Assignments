{
 "cells": [
  {
   "cell_type": "code",
   "execution_count": 15,
   "id": "bb7156f6",
   "metadata": {},
   "outputs": [],
   "source": [
    "import pandas as pd\n",
    "import os\n",
    "from sklearn.model_selection import train_test_split"
   ]
  },
  {
   "cell_type": "code",
   "execution_count": 16,
   "id": "51ca5614",
   "metadata": {},
   "outputs": [
    {
     "data": {
      "text/plain": [
       "'D:\\\\AOS'"
      ]
     },
     "execution_count": 16,
     "metadata": {},
     "output_type": "execute_result"
    }
   ],
   "source": [
    "os.getcwd()"
   ]
  },
  {
   "cell_type": "code",
   "execution_count": 17,
   "id": "9ca39c99",
   "metadata": {},
   "outputs": [],
   "source": [
    "os.chdir(\"D:\\AOS\")"
   ]
  },
  {
   "cell_type": "code",
   "execution_count": 18,
   "id": "f722be32",
   "metadata": {},
   "outputs": [
    {
     "data": {
      "text/html": [
       "<div>\n",
       "<style scoped>\n",
       "    .dataframe tbody tr th:only-of-type {\n",
       "        vertical-align: middle;\n",
       "    }\n",
       "\n",
       "    .dataframe tbody tr th {\n",
       "        vertical-align: top;\n",
       "    }\n",
       "\n",
       "    .dataframe thead th {\n",
       "        text-align: right;\n",
       "    }\n",
       "</style>\n",
       "<table border=\"1\" class=\"dataframe\">\n",
       "  <thead>\n",
       "    <tr style=\"text-align: right;\">\n",
       "      <th></th>\n",
       "      <th>Cars</th>\n",
       "      <th>Sales \\n(in 1,000 units)</th>\n",
       "      <th>Price\\n(in lakh rupees)</th>\n",
       "      <th>Mileage\\n(Km/ltr)</th>\n",
       "      <th>Top speed (Km/hr)</th>\n",
       "    </tr>\n",
       "  </thead>\n",
       "  <tbody>\n",
       "    <tr>\n",
       "      <th>0</th>\n",
       "      <td>Rocinante 1</td>\n",
       "      <td>171.877</td>\n",
       "      <td>6.1</td>\n",
       "      <td>15.8</td>\n",
       "      <td>168.2</td>\n",
       "    </tr>\n",
       "    <tr>\n",
       "      <th>1</th>\n",
       "      <td>Rocinante 2</td>\n",
       "      <td>139.796</td>\n",
       "      <td>6.1</td>\n",
       "      <td>12.1</td>\n",
       "      <td>149.6</td>\n",
       "    </tr>\n",
       "    <tr>\n",
       "      <th>2</th>\n",
       "      <td>Rocinante 3</td>\n",
       "      <td>178.947</td>\n",
       "      <td>9.9</td>\n",
       "      <td>17.0</td>\n",
       "      <td>173.4</td>\n",
       "    </tr>\n",
       "    <tr>\n",
       "      <th>3</th>\n",
       "      <td>Rocinante 4</td>\n",
       "      <td>140.022</td>\n",
       "      <td>5.8</td>\n",
       "      <td>11.6</td>\n",
       "      <td>170.6</td>\n",
       "    </tr>\n",
       "    <tr>\n",
       "      <th>4</th>\n",
       "      <td>Rocinante 5</td>\n",
       "      <td>186.476</td>\n",
       "      <td>10.0</td>\n",
       "      <td>17.2</td>\n",
       "      <td>175.0</td>\n",
       "    </tr>\n",
       "    <tr>\n",
       "      <th>5</th>\n",
       "      <td>Rocinante 6</td>\n",
       "      <td>192.123</td>\n",
       "      <td>6.5</td>\n",
       "      <td>17.6</td>\n",
       "      <td>173.1</td>\n",
       "    </tr>\n",
       "    <tr>\n",
       "      <th>6</th>\n",
       "      <td>Rocinante 7</td>\n",
       "      <td>175.085</td>\n",
       "      <td>5.5</td>\n",
       "      <td>16.0</td>\n",
       "      <td>184.6</td>\n",
       "    </tr>\n",
       "    <tr>\n",
       "      <th>7</th>\n",
       "      <td>Rocinante 8</td>\n",
       "      <td>146.882</td>\n",
       "      <td>8.4</td>\n",
       "      <td>13.0</td>\n",
       "      <td>175.7</td>\n",
       "    </tr>\n",
       "    <tr>\n",
       "      <th>8</th>\n",
       "      <td>Rocinante 9</td>\n",
       "      <td>202.847</td>\n",
       "      <td>6.6</td>\n",
       "      <td>19.3</td>\n",
       "      <td>166.7</td>\n",
       "    </tr>\n",
       "    <tr>\n",
       "      <th>9</th>\n",
       "      <td>Rocinante 10</td>\n",
       "      <td>149.933</td>\n",
       "      <td>8.8</td>\n",
       "      <td>13.3</td>\n",
       "      <td>175.4</td>\n",
       "    </tr>\n",
       "    <tr>\n",
       "      <th>10</th>\n",
       "      <td>Rocinante 11</td>\n",
       "      <td>171.579</td>\n",
       "      <td>9.5</td>\n",
       "      <td>15.8</td>\n",
       "      <td>150.9</td>\n",
       "    </tr>\n",
       "    <tr>\n",
       "      <th>11</th>\n",
       "      <td>Rocinante 12</td>\n",
       "      <td>201.512</td>\n",
       "      <td>9.2</td>\n",
       "      <td>19.2</td>\n",
       "      <td>140.5</td>\n",
       "    </tr>\n",
       "    <tr>\n",
       "      <th>12</th>\n",
       "      <td>Rocinante 13</td>\n",
       "      <td>142.604</td>\n",
       "      <td>8.1</td>\n",
       "      <td>11.7</td>\n",
       "      <td>150.2</td>\n",
       "    </tr>\n",
       "    <tr>\n",
       "      <th>13</th>\n",
       "      <td>Rocinante 14</td>\n",
       "      <td>135.158</td>\n",
       "      <td>5.4</td>\n",
       "      <td>11.2</td>\n",
       "      <td>146.2</td>\n",
       "    </tr>\n",
       "    <tr>\n",
       "      <th>14</th>\n",
       "      <td>Rocinante 15</td>\n",
       "      <td>107.322</td>\n",
       "      <td>5.6</td>\n",
       "      <td>7.8</td>\n",
       "      <td>151.2</td>\n",
       "    </tr>\n",
       "    <tr>\n",
       "      <th>15</th>\n",
       "      <td>Rocinante 16</td>\n",
       "      <td>199.699</td>\n",
       "      <td>6.3</td>\n",
       "      <td>19.0</td>\n",
       "      <td>143.2</td>\n",
       "    </tr>\n",
       "    <tr>\n",
       "      <th>16</th>\n",
       "      <td>Rocinante 17</td>\n",
       "      <td>202.875</td>\n",
       "      <td>5.8</td>\n",
       "      <td>19.7</td>\n",
       "      <td>178.9</td>\n",
       "    </tr>\n",
       "    <tr>\n",
       "      <th>17</th>\n",
       "      <td>Rocinante 18</td>\n",
       "      <td>204.406</td>\n",
       "      <td>7.7</td>\n",
       "      <td>19.5</td>\n",
       "      <td>168.2</td>\n",
       "    </tr>\n",
       "    <tr>\n",
       "      <th>18</th>\n",
       "      <td>Rocinante 19</td>\n",
       "      <td>107.331</td>\n",
       "      <td>7.2</td>\n",
       "      <td>7.5</td>\n",
       "      <td>164.7</td>\n",
       "    </tr>\n",
       "    <tr>\n",
       "      <th>19</th>\n",
       "      <td>Rocinante 20</td>\n",
       "      <td>190.345</td>\n",
       "      <td>8.4</td>\n",
       "      <td>18.1</td>\n",
       "      <td>182.7</td>\n",
       "    </tr>\n",
       "    <tr>\n",
       "      <th>20</th>\n",
       "      <td>Rocinante 21</td>\n",
       "      <td>108.419</td>\n",
       "      <td>8.4</td>\n",
       "      <td>7.9</td>\n",
       "      <td>165.7</td>\n",
       "    </tr>\n",
       "    <tr>\n",
       "      <th>21</th>\n",
       "      <td>Rocinante 22</td>\n",
       "      <td>150.249</td>\n",
       "      <td>5.7</td>\n",
       "      <td>12.6</td>\n",
       "      <td>137.0</td>\n",
       "    </tr>\n",
       "    <tr>\n",
       "      <th>22</th>\n",
       "      <td>Rocinante 23</td>\n",
       "      <td>155.882</td>\n",
       "      <td>5.5</td>\n",
       "      <td>12.9</td>\n",
       "      <td>173.9</td>\n",
       "    </tr>\n",
       "    <tr>\n",
       "      <th>23</th>\n",
       "      <td>Rocinante 24</td>\n",
       "      <td>100.980</td>\n",
       "      <td>8.4</td>\n",
       "      <td>7.6</td>\n",
       "      <td>165.1</td>\n",
       "    </tr>\n",
       "    <tr>\n",
       "      <th>24</th>\n",
       "      <td>Rocinante 25</td>\n",
       "      <td>182.679</td>\n",
       "      <td>5.6</td>\n",
       "      <td>16.7</td>\n",
       "      <td>160.1</td>\n",
       "    </tr>\n",
       "    <tr>\n",
       "      <th>25</th>\n",
       "      <td>Rocinante 26</td>\n",
       "      <td>166.752</td>\n",
       "      <td>9.9</td>\n",
       "      <td>15.5</td>\n",
       "      <td>155.6</td>\n",
       "    </tr>\n",
       "    <tr>\n",
       "      <th>26</th>\n",
       "      <td>Rocinante 27</td>\n",
       "      <td>121.561</td>\n",
       "      <td>6.2</td>\n",
       "      <td>9.5</td>\n",
       "      <td>155.4</td>\n",
       "    </tr>\n",
       "    <tr>\n",
       "      <th>27</th>\n",
       "      <td>Rocinante 28</td>\n",
       "      <td>174.256</td>\n",
       "      <td>9.9</td>\n",
       "      <td>16.3</td>\n",
       "      <td>161.9</td>\n",
       "    </tr>\n",
       "    <tr>\n",
       "      <th>28</th>\n",
       "      <td>Rocinante 29</td>\n",
       "      <td>119.018</td>\n",
       "      <td>6.5</td>\n",
       "      <td>9.1</td>\n",
       "      <td>146.8</td>\n",
       "    </tr>\n",
       "    <tr>\n",
       "      <th>29</th>\n",
       "      <td>Rocinante 30</td>\n",
       "      <td>169.842</td>\n",
       "      <td>7.1</td>\n",
       "      <td>15.3</td>\n",
       "      <td>149.5</td>\n",
       "    </tr>\n",
       "    <tr>\n",
       "      <th>30</th>\n",
       "      <td>Rocinante 31</td>\n",
       "      <td>198.311</td>\n",
       "      <td>9.6</td>\n",
       "      <td>19.1</td>\n",
       "      <td>146.5</td>\n",
       "    </tr>\n",
       "    <tr>\n",
       "      <th>31</th>\n",
       "      <td>Rocinante 32</td>\n",
       "      <td>204.875</td>\n",
       "      <td>5.8</td>\n",
       "      <td>19.4</td>\n",
       "      <td>178.9</td>\n",
       "    </tr>\n",
       "    <tr>\n",
       "      <th>32</th>\n",
       "      <td>Rocinante 33</td>\n",
       "      <td>119.561</td>\n",
       "      <td>6.2</td>\n",
       "      <td>9.4</td>\n",
       "      <td>175.4</td>\n",
       "    </tr>\n",
       "    <tr>\n",
       "      <th>33</th>\n",
       "      <td>Rocinante 34</td>\n",
       "      <td>203.875</td>\n",
       "      <td>5.9</td>\n",
       "      <td>19.4</td>\n",
       "      <td>175.9</td>\n",
       "    </tr>\n",
       "    <tr>\n",
       "      <th>34</th>\n",
       "      <td>Rocinante 35</td>\n",
       "      <td>118.561</td>\n",
       "      <td>6.1</td>\n",
       "      <td>9.4</td>\n",
       "      <td>165.4</td>\n",
       "    </tr>\n",
       "  </tbody>\n",
       "</table>\n",
       "</div>"
      ],
      "text/plain": [
       "            Cars  Sales \\n(in 1,000 units)  Price\\n(in lakh rupees)  \\\n",
       "0    Rocinante 1                   171.877                      6.1   \n",
       "1    Rocinante 2                   139.796                      6.1   \n",
       "2    Rocinante 3                   178.947                      9.9   \n",
       "3    Rocinante 4                   140.022                      5.8   \n",
       "4    Rocinante 5                   186.476                     10.0   \n",
       "5    Rocinante 6                   192.123                      6.5   \n",
       "6    Rocinante 7                   175.085                      5.5   \n",
       "7    Rocinante 8                   146.882                      8.4   \n",
       "8    Rocinante 9                   202.847                      6.6   \n",
       "9   Rocinante 10                   149.933                      8.8   \n",
       "10  Rocinante 11                   171.579                      9.5   \n",
       "11  Rocinante 12                   201.512                      9.2   \n",
       "12  Rocinante 13                   142.604                      8.1   \n",
       "13  Rocinante 14                   135.158                      5.4   \n",
       "14  Rocinante 15                   107.322                      5.6   \n",
       "15  Rocinante 16                   199.699                      6.3   \n",
       "16  Rocinante 17                   202.875                      5.8   \n",
       "17  Rocinante 18                   204.406                      7.7   \n",
       "18  Rocinante 19                   107.331                      7.2   \n",
       "19  Rocinante 20                   190.345                      8.4   \n",
       "20  Rocinante 21                   108.419                      8.4   \n",
       "21  Rocinante 22                   150.249                      5.7   \n",
       "22  Rocinante 23                   155.882                      5.5   \n",
       "23  Rocinante 24                   100.980                      8.4   \n",
       "24  Rocinante 25                   182.679                      5.6   \n",
       "25  Rocinante 26                   166.752                      9.9   \n",
       "26  Rocinante 27                   121.561                      6.2   \n",
       "27  Rocinante 28                   174.256                      9.9   \n",
       "28  Rocinante 29                   119.018                      6.5   \n",
       "29  Rocinante 30                   169.842                      7.1   \n",
       "30  Rocinante 31                   198.311                      9.6   \n",
       "31  Rocinante 32                   204.875                      5.8   \n",
       "32  Rocinante 33                   119.561                      6.2   \n",
       "33  Rocinante 34                   203.875                      5.9   \n",
       "34  Rocinante 35                   118.561                      6.1   \n",
       "\n",
       "    Mileage\\n(Km/ltr)  Top speed (Km/hr)  \n",
       "0                15.8              168.2  \n",
       "1                12.1              149.6  \n",
       "2                17.0              173.4  \n",
       "3                11.6              170.6  \n",
       "4                17.2              175.0  \n",
       "5                17.6              173.1  \n",
       "6                16.0              184.6  \n",
       "7                13.0              175.7  \n",
       "8                19.3              166.7  \n",
       "9                13.3              175.4  \n",
       "10               15.8              150.9  \n",
       "11               19.2              140.5  \n",
       "12               11.7              150.2  \n",
       "13               11.2              146.2  \n",
       "14                7.8              151.2  \n",
       "15               19.0              143.2  \n",
       "16               19.7              178.9  \n",
       "17               19.5              168.2  \n",
       "18                7.5              164.7  \n",
       "19               18.1              182.7  \n",
       "20                7.9              165.7  \n",
       "21               12.6              137.0  \n",
       "22               12.9              173.9  \n",
       "23                7.6              165.1  \n",
       "24               16.7              160.1  \n",
       "25               15.5              155.6  \n",
       "26                9.5              155.4  \n",
       "27               16.3              161.9  \n",
       "28                9.1              146.8  \n",
       "29               15.3              149.5  \n",
       "30               19.1              146.5  \n",
       "31               19.4              178.9  \n",
       "32                9.4              175.4  \n",
       "33               19.4              175.9  \n",
       "34                9.4              165.4  "
      ]
     },
     "execution_count": 18,
     "metadata": {},
     "output_type": "execute_result"
    }
   ],
   "source": [
    "md = pd.read_excel(\"Exhibit+2.xlsx\")\n",
    "md"
   ]
  },
  {
   "cell_type": "code",
   "execution_count": 19,
   "id": "3ea67ab6",
   "metadata": {},
   "outputs": [
    {
     "data": {
      "text/plain": [
       "(35, 5)"
      ]
     },
     "execution_count": 19,
     "metadata": {},
     "output_type": "execute_result"
    }
   ],
   "source": [
    "md.shape"
   ]
  },
  {
   "cell_type": "code",
   "execution_count": 20,
   "id": "477cf9cd",
   "metadata": {},
   "outputs": [
    {
     "data": {
      "text/html": [
       "<div>\n",
       "<style scoped>\n",
       "    .dataframe tbody tr th:only-of-type {\n",
       "        vertical-align: middle;\n",
       "    }\n",
       "\n",
       "    .dataframe tbody tr th {\n",
       "        vertical-align: top;\n",
       "    }\n",
       "\n",
       "    .dataframe thead th {\n",
       "        text-align: right;\n",
       "    }\n",
       "</style>\n",
       "<table border=\"1\" class=\"dataframe\">\n",
       "  <thead>\n",
       "    <tr style=\"text-align: right;\">\n",
       "      <th></th>\n",
       "      <th>Sales \\n(in 1,000 units)</th>\n",
       "      <th>Price\\n(in lakh rupees)</th>\n",
       "      <th>Mileage\\n(Km/ltr)</th>\n",
       "      <th>Top speed (Km/hr)</th>\n",
       "    </tr>\n",
       "  </thead>\n",
       "  <tbody>\n",
       "    <tr>\n",
       "      <th>count</th>\n",
       "      <td>35.000000</td>\n",
       "      <td>35.000000</td>\n",
       "      <td>35.000000</td>\n",
       "      <td>35.000000</td>\n",
       "    </tr>\n",
       "    <tr>\n",
       "      <th>mean</th>\n",
       "      <td>161.189714</td>\n",
       "      <td>7.248571</td>\n",
       "      <td>14.357143</td>\n",
       "      <td>162.917143</td>\n",
       "    </tr>\n",
       "    <tr>\n",
       "      <th>std</th>\n",
       "      <td>33.865096</td>\n",
       "      <td>1.588631</td>\n",
       "      <td>4.099303</td>\n",
       "      <td>13.216266</td>\n",
       "    </tr>\n",
       "    <tr>\n",
       "      <th>min</th>\n",
       "      <td>100.980000</td>\n",
       "      <td>5.400000</td>\n",
       "      <td>7.500000</td>\n",
       "      <td>137.000000</td>\n",
       "    </tr>\n",
       "    <tr>\n",
       "      <th>25%</th>\n",
       "      <td>137.477000</td>\n",
       "      <td>5.850000</td>\n",
       "      <td>11.400000</td>\n",
       "      <td>150.550000</td>\n",
       "    </tr>\n",
       "    <tr>\n",
       "      <th>50%</th>\n",
       "      <td>169.842000</td>\n",
       "      <td>6.500000</td>\n",
       "      <td>15.500000</td>\n",
       "      <td>165.400000</td>\n",
       "    </tr>\n",
       "    <tr>\n",
       "      <th>75%</th>\n",
       "      <td>191.234000</td>\n",
       "      <td>8.400000</td>\n",
       "      <td>17.850000</td>\n",
       "      <td>174.450000</td>\n",
       "    </tr>\n",
       "    <tr>\n",
       "      <th>max</th>\n",
       "      <td>204.875000</td>\n",
       "      <td>10.000000</td>\n",
       "      <td>19.700000</td>\n",
       "      <td>184.600000</td>\n",
       "    </tr>\n",
       "  </tbody>\n",
       "</table>\n",
       "</div>"
      ],
      "text/plain": [
       "       Sales \\n(in 1,000 units)  Price\\n(in lakh rupees)  Mileage\\n(Km/ltr)  \\\n",
       "count                 35.000000                35.000000          35.000000   \n",
       "mean                 161.189714                 7.248571          14.357143   \n",
       "std                   33.865096                 1.588631           4.099303   \n",
       "min                  100.980000                 5.400000           7.500000   \n",
       "25%                  137.477000                 5.850000          11.400000   \n",
       "50%                  169.842000                 6.500000          15.500000   \n",
       "75%                  191.234000                 8.400000          17.850000   \n",
       "max                  204.875000                10.000000          19.700000   \n",
       "\n",
       "       Top speed (Km/hr)  \n",
       "count          35.000000  \n",
       "mean          162.917143  \n",
       "std            13.216266  \n",
       "min           137.000000  \n",
       "25%           150.550000  \n",
       "50%           165.400000  \n",
       "75%           174.450000  \n",
       "max           184.600000  "
      ]
     },
     "execution_count": 20,
     "metadata": {},
     "output_type": "execute_result"
    }
   ],
   "source": [
    "md.describe()"
   ]
  },
  {
   "cell_type": "code",
   "execution_count": 30,
   "id": "34af1857",
   "metadata": {},
   "outputs": [
    {
     "data": {
      "text/plain": [
       "(35, 5)"
      ]
     },
     "execution_count": 30,
     "metadata": {},
     "output_type": "execute_result"
    }
   ],
   "source": [
    "md.shape"
   ]
  },
  {
   "cell_type": "code",
   "execution_count": 21,
   "id": "ab617401",
   "metadata": {},
   "outputs": [
    {
     "data": {
      "text/plain": [
       "Index(['Cars', 'Sales \\n(in 1,000 units)', 'Price\\n(in lakh rupees)',\n",
       "       'Mileage\\n(Km/ltr)', 'Top speed (Km/hr)'],\n",
       "      dtype='object')"
      ]
     },
     "execution_count": 21,
     "metadata": {},
     "output_type": "execute_result"
    }
   ],
   "source": [
    "md.columns"
   ]
  },
  {
   "cell_type": "code",
   "execution_count": 22,
   "id": "83bcb5bd",
   "metadata": {},
   "outputs": [
    {
     "data": {
      "text/plain": [
       "['Cars',\n",
       " 'Sales \\n(in 1,000 units)',\n",
       " 'Price\\n(in lakh rupees)',\n",
       " 'Mileage\\n(Km/ltr)',\n",
       " 'Top speed (Km/hr)']"
      ]
     },
     "execution_count": 22,
     "metadata": {},
     "output_type": "execute_result"
    }
   ],
   "source": [
    "list(md)"
   ]
  },
  {
   "cell_type": "markdown",
   "id": "6f9c697e",
   "metadata": {},
   "source": [
    "### Split the whole data "
   ]
  },
  {
   "cell_type": "code",
   "execution_count": 23,
   "id": "7d74340e",
   "metadata": {},
   "outputs": [],
   "source": [
    "X = md[['Price\\n(in lakh rupees)', 'Mileage\\n(Km/ltr)', 'Top speed (Km/hr)']]    #independent variable\n",
    "y = md['Sales \\n(in 1,000 units)']                                               #dependent variable"
   ]
  },
  {
   "cell_type": "markdown",
   "id": "4548f4b3",
   "metadata": {},
   "source": [
    "###  Split the dataset into train data and testing sets (80% train, 20% test)"
   ]
  },
  {
   "cell_type": "code",
   "execution_count": 24,
   "id": "6260731d",
   "metadata": {},
   "outputs": [],
   "source": [
    "X_train, X_test, y_train, y_test = train_test_split(X, y, test_size=0.2)"
   ]
  },
  {
   "cell_type": "code",
   "execution_count": 25,
   "id": "49c1416d",
   "metadata": {},
   "outputs": [
    {
     "data": {
      "text/plain": [
       "((28, 3), (7, 3))"
      ]
     },
     "execution_count": 25,
     "metadata": {},
     "output_type": "execute_result"
    }
   ],
   "source": [
    "X_train.shape, X_test.shape"
   ]
  },
  {
   "cell_type": "code",
   "execution_count": 26,
   "id": "c9e9af87",
   "metadata": {
    "collapsed": true
   },
   "outputs": [
    {
     "data": {
      "text/html": [
       "<div>\n",
       "<style scoped>\n",
       "    .dataframe tbody tr th:only-of-type {\n",
       "        vertical-align: middle;\n",
       "    }\n",
       "\n",
       "    .dataframe tbody tr th {\n",
       "        vertical-align: top;\n",
       "    }\n",
       "\n",
       "    .dataframe thead th {\n",
       "        text-align: right;\n",
       "    }\n",
       "</style>\n",
       "<table border=\"1\" class=\"dataframe\">\n",
       "  <thead>\n",
       "    <tr style=\"text-align: right;\">\n",
       "      <th></th>\n",
       "      <th>Price\\n(in lakh rupees)</th>\n",
       "      <th>Mileage\\n(Km/ltr)</th>\n",
       "      <th>Top speed (Km/hr)</th>\n",
       "    </tr>\n",
       "  </thead>\n",
       "  <tbody>\n",
       "    <tr>\n",
       "      <th>24</th>\n",
       "      <td>5.6</td>\n",
       "      <td>16.7</td>\n",
       "      <td>160.1</td>\n",
       "    </tr>\n",
       "    <tr>\n",
       "      <th>1</th>\n",
       "      <td>6.1</td>\n",
       "      <td>12.1</td>\n",
       "      <td>149.6</td>\n",
       "    </tr>\n",
       "    <tr>\n",
       "      <th>11</th>\n",
       "      <td>9.2</td>\n",
       "      <td>19.2</td>\n",
       "      <td>140.5</td>\n",
       "    </tr>\n",
       "    <tr>\n",
       "      <th>16</th>\n",
       "      <td>5.8</td>\n",
       "      <td>19.7</td>\n",
       "      <td>178.9</td>\n",
       "    </tr>\n",
       "    <tr>\n",
       "      <th>3</th>\n",
       "      <td>5.8</td>\n",
       "      <td>11.6</td>\n",
       "      <td>170.6</td>\n",
       "    </tr>\n",
       "    <tr>\n",
       "      <th>17</th>\n",
       "      <td>7.7</td>\n",
       "      <td>19.5</td>\n",
       "      <td>168.2</td>\n",
       "    </tr>\n",
       "    <tr>\n",
       "      <th>5</th>\n",
       "      <td>6.5</td>\n",
       "      <td>17.6</td>\n",
       "      <td>173.1</td>\n",
       "    </tr>\n",
       "    <tr>\n",
       "      <th>4</th>\n",
       "      <td>10.0</td>\n",
       "      <td>17.2</td>\n",
       "      <td>175.0</td>\n",
       "    </tr>\n",
       "    <tr>\n",
       "      <th>7</th>\n",
       "      <td>8.4</td>\n",
       "      <td>13.0</td>\n",
       "      <td>175.7</td>\n",
       "    </tr>\n",
       "    <tr>\n",
       "      <th>8</th>\n",
       "      <td>6.6</td>\n",
       "      <td>19.3</td>\n",
       "      <td>166.7</td>\n",
       "    </tr>\n",
       "    <tr>\n",
       "      <th>6</th>\n",
       "      <td>5.5</td>\n",
       "      <td>16.0</td>\n",
       "      <td>184.6</td>\n",
       "    </tr>\n",
       "    <tr>\n",
       "      <th>18</th>\n",
       "      <td>7.2</td>\n",
       "      <td>7.5</td>\n",
       "      <td>164.7</td>\n",
       "    </tr>\n",
       "    <tr>\n",
       "      <th>13</th>\n",
       "      <td>5.4</td>\n",
       "      <td>11.2</td>\n",
       "      <td>146.2</td>\n",
       "    </tr>\n",
       "    <tr>\n",
       "      <th>2</th>\n",
       "      <td>9.9</td>\n",
       "      <td>17.0</td>\n",
       "      <td>173.4</td>\n",
       "    </tr>\n",
       "    <tr>\n",
       "      <th>31</th>\n",
       "      <td>5.8</td>\n",
       "      <td>19.4</td>\n",
       "      <td>178.9</td>\n",
       "    </tr>\n",
       "    <tr>\n",
       "      <th>34</th>\n",
       "      <td>6.1</td>\n",
       "      <td>9.4</td>\n",
       "      <td>165.4</td>\n",
       "    </tr>\n",
       "    <tr>\n",
       "      <th>9</th>\n",
       "      <td>8.8</td>\n",
       "      <td>13.3</td>\n",
       "      <td>175.4</td>\n",
       "    </tr>\n",
       "    <tr>\n",
       "      <th>25</th>\n",
       "      <td>9.9</td>\n",
       "      <td>15.5</td>\n",
       "      <td>155.6</td>\n",
       "    </tr>\n",
       "    <tr>\n",
       "      <th>0</th>\n",
       "      <td>6.1</td>\n",
       "      <td>15.8</td>\n",
       "      <td>168.2</td>\n",
       "    </tr>\n",
       "    <tr>\n",
       "      <th>10</th>\n",
       "      <td>9.5</td>\n",
       "      <td>15.8</td>\n",
       "      <td>150.9</td>\n",
       "    </tr>\n",
       "    <tr>\n",
       "      <th>19</th>\n",
       "      <td>8.4</td>\n",
       "      <td>18.1</td>\n",
       "      <td>182.7</td>\n",
       "    </tr>\n",
       "    <tr>\n",
       "      <th>15</th>\n",
       "      <td>6.3</td>\n",
       "      <td>19.0</td>\n",
       "      <td>143.2</td>\n",
       "    </tr>\n",
       "    <tr>\n",
       "      <th>33</th>\n",
       "      <td>5.9</td>\n",
       "      <td>19.4</td>\n",
       "      <td>175.9</td>\n",
       "    </tr>\n",
       "    <tr>\n",
       "      <th>22</th>\n",
       "      <td>5.5</td>\n",
       "      <td>12.9</td>\n",
       "      <td>173.9</td>\n",
       "    </tr>\n",
       "    <tr>\n",
       "      <th>12</th>\n",
       "      <td>8.1</td>\n",
       "      <td>11.7</td>\n",
       "      <td>150.2</td>\n",
       "    </tr>\n",
       "    <tr>\n",
       "      <th>14</th>\n",
       "      <td>5.6</td>\n",
       "      <td>7.8</td>\n",
       "      <td>151.2</td>\n",
       "    </tr>\n",
       "    <tr>\n",
       "      <th>28</th>\n",
       "      <td>6.5</td>\n",
       "      <td>9.1</td>\n",
       "      <td>146.8</td>\n",
       "    </tr>\n",
       "    <tr>\n",
       "      <th>21</th>\n",
       "      <td>5.7</td>\n",
       "      <td>12.6</td>\n",
       "      <td>137.0</td>\n",
       "    </tr>\n",
       "  </tbody>\n",
       "</table>\n",
       "</div>"
      ],
      "text/plain": [
       "    Price\\n(in lakh rupees)  Mileage\\n(Km/ltr)  Top speed (Km/hr)\n",
       "24                      5.6               16.7              160.1\n",
       "1                       6.1               12.1              149.6\n",
       "11                      9.2               19.2              140.5\n",
       "16                      5.8               19.7              178.9\n",
       "3                       5.8               11.6              170.6\n",
       "17                      7.7               19.5              168.2\n",
       "5                       6.5               17.6              173.1\n",
       "4                      10.0               17.2              175.0\n",
       "7                       8.4               13.0              175.7\n",
       "8                       6.6               19.3              166.7\n",
       "6                       5.5               16.0              184.6\n",
       "18                      7.2                7.5              164.7\n",
       "13                      5.4               11.2              146.2\n",
       "2                       9.9               17.0              173.4\n",
       "31                      5.8               19.4              178.9\n",
       "34                      6.1                9.4              165.4\n",
       "9                       8.8               13.3              175.4\n",
       "25                      9.9               15.5              155.6\n",
       "0                       6.1               15.8              168.2\n",
       "10                      9.5               15.8              150.9\n",
       "19                      8.4               18.1              182.7\n",
       "15                      6.3               19.0              143.2\n",
       "33                      5.9               19.4              175.9\n",
       "22                      5.5               12.9              173.9\n",
       "12                      8.1               11.7              150.2\n",
       "14                      5.6                7.8              151.2\n",
       "28                      6.5                9.1              146.8\n",
       "21                      5.7               12.6              137.0"
      ]
     },
     "execution_count": 26,
     "metadata": {},
     "output_type": "execute_result"
    }
   ],
   "source": [
    "X_train"
   ]
  },
  {
   "cell_type": "code",
   "execution_count": 27,
   "id": "5131668c",
   "metadata": {
    "collapsed": true
   },
   "outputs": [
    {
     "data": {
      "text/html": [
       "<div>\n",
       "<style scoped>\n",
       "    .dataframe tbody tr th:only-of-type {\n",
       "        vertical-align: middle;\n",
       "    }\n",
       "\n",
       "    .dataframe tbody tr th {\n",
       "        vertical-align: top;\n",
       "    }\n",
       "\n",
       "    .dataframe thead th {\n",
       "        text-align: right;\n",
       "    }\n",
       "</style>\n",
       "<table border=\"1\" class=\"dataframe\">\n",
       "  <thead>\n",
       "    <tr style=\"text-align: right;\">\n",
       "      <th></th>\n",
       "      <th>Price\\n(in lakh rupees)</th>\n",
       "      <th>Mileage\\n(Km/ltr)</th>\n",
       "      <th>Top speed (Km/hr)</th>\n",
       "    </tr>\n",
       "  </thead>\n",
       "  <tbody>\n",
       "    <tr>\n",
       "      <th>23</th>\n",
       "      <td>8.4</td>\n",
       "      <td>7.6</td>\n",
       "      <td>165.1</td>\n",
       "    </tr>\n",
       "    <tr>\n",
       "      <th>29</th>\n",
       "      <td>7.1</td>\n",
       "      <td>15.3</td>\n",
       "      <td>149.5</td>\n",
       "    </tr>\n",
       "    <tr>\n",
       "      <th>30</th>\n",
       "      <td>9.6</td>\n",
       "      <td>19.1</td>\n",
       "      <td>146.5</td>\n",
       "    </tr>\n",
       "    <tr>\n",
       "      <th>26</th>\n",
       "      <td>6.2</td>\n",
       "      <td>9.5</td>\n",
       "      <td>155.4</td>\n",
       "    </tr>\n",
       "    <tr>\n",
       "      <th>27</th>\n",
       "      <td>9.9</td>\n",
       "      <td>16.3</td>\n",
       "      <td>161.9</td>\n",
       "    </tr>\n",
       "    <tr>\n",
       "      <th>20</th>\n",
       "      <td>8.4</td>\n",
       "      <td>7.9</td>\n",
       "      <td>165.7</td>\n",
       "    </tr>\n",
       "    <tr>\n",
       "      <th>32</th>\n",
       "      <td>6.2</td>\n",
       "      <td>9.4</td>\n",
       "      <td>175.4</td>\n",
       "    </tr>\n",
       "  </tbody>\n",
       "</table>\n",
       "</div>"
      ],
      "text/plain": [
       "    Price\\n(in lakh rupees)  Mileage\\n(Km/ltr)  Top speed (Km/hr)\n",
       "23                      8.4                7.6              165.1\n",
       "29                      7.1               15.3              149.5\n",
       "30                      9.6               19.1              146.5\n",
       "26                      6.2                9.5              155.4\n",
       "27                      9.9               16.3              161.9\n",
       "20                      8.4                7.9              165.7\n",
       "32                      6.2                9.4              175.4"
      ]
     },
     "execution_count": 27,
     "metadata": {},
     "output_type": "execute_result"
    }
   ],
   "source": [
    "X_test"
   ]
  },
  {
   "cell_type": "code",
   "execution_count": 28,
   "id": "4e7d7286",
   "metadata": {},
   "outputs": [
    {
     "data": {
      "text/plain": [
       "2"
      ]
     },
     "execution_count": 28,
     "metadata": {},
     "output_type": "execute_result"
    }
   ],
   "source": [
    "len( X_train.shape)"
   ]
  },
  {
   "cell_type": "code",
   "execution_count": 29,
   "id": "4cd3e4ca",
   "metadata": {},
   "outputs": [
    {
     "data": {
      "text/plain": [
       "28"
      ]
     },
     "execution_count": 29,
     "metadata": {},
     "output_type": "execute_result"
    }
   ],
   "source": [
    "len(y_train)"
   ]
  },
  {
   "cell_type": "code",
   "execution_count": 31,
   "id": "cba7a32d",
   "metadata": {},
   "outputs": [],
   "source": [
    "from sklearn.linear_model import LinearRegression\n",
    "from sklearn.metrics import mean_squared_error\n",
    "import numpy as np"
   ]
  },
  {
   "cell_type": "code",
   "execution_count": 32,
   "id": "d79d3f70",
   "metadata": {},
   "outputs": [
    {
     "data": {
      "text/html": [
       "<style>#sk-container-id-1 {color: black;}#sk-container-id-1 pre{padding: 0;}#sk-container-id-1 div.sk-toggleable {background-color: white;}#sk-container-id-1 label.sk-toggleable__label {cursor: pointer;display: block;width: 100%;margin-bottom: 0;padding: 0.3em;box-sizing: border-box;text-align: center;}#sk-container-id-1 label.sk-toggleable__label-arrow:before {content: \"▸\";float: left;margin-right: 0.25em;color: #696969;}#sk-container-id-1 label.sk-toggleable__label-arrow:hover:before {color: black;}#sk-container-id-1 div.sk-estimator:hover label.sk-toggleable__label-arrow:before {color: black;}#sk-container-id-1 div.sk-toggleable__content {max-height: 0;max-width: 0;overflow: hidden;text-align: left;background-color: #f0f8ff;}#sk-container-id-1 div.sk-toggleable__content pre {margin: 0.2em;color: black;border-radius: 0.25em;background-color: #f0f8ff;}#sk-container-id-1 input.sk-toggleable__control:checked~div.sk-toggleable__content {max-height: 200px;max-width: 100%;overflow: auto;}#sk-container-id-1 input.sk-toggleable__control:checked~label.sk-toggleable__label-arrow:before {content: \"▾\";}#sk-container-id-1 div.sk-estimator input.sk-toggleable__control:checked~label.sk-toggleable__label {background-color: #d4ebff;}#sk-container-id-1 div.sk-label input.sk-toggleable__control:checked~label.sk-toggleable__label {background-color: #d4ebff;}#sk-container-id-1 input.sk-hidden--visually {border: 0;clip: rect(1px 1px 1px 1px);clip: rect(1px, 1px, 1px, 1px);height: 1px;margin: -1px;overflow: hidden;padding: 0;position: absolute;width: 1px;}#sk-container-id-1 div.sk-estimator {font-family: monospace;background-color: #f0f8ff;border: 1px dotted black;border-radius: 0.25em;box-sizing: border-box;margin-bottom: 0.5em;}#sk-container-id-1 div.sk-estimator:hover {background-color: #d4ebff;}#sk-container-id-1 div.sk-parallel-item::after {content: \"\";width: 100%;border-bottom: 1px solid gray;flex-grow: 1;}#sk-container-id-1 div.sk-label:hover label.sk-toggleable__label {background-color: #d4ebff;}#sk-container-id-1 div.sk-serial::before {content: \"\";position: absolute;border-left: 1px solid gray;box-sizing: border-box;top: 0;bottom: 0;left: 50%;z-index: 0;}#sk-container-id-1 div.sk-serial {display: flex;flex-direction: column;align-items: center;background-color: white;padding-right: 0.2em;padding-left: 0.2em;position: relative;}#sk-container-id-1 div.sk-item {position: relative;z-index: 1;}#sk-container-id-1 div.sk-parallel {display: flex;align-items: stretch;justify-content: center;background-color: white;position: relative;}#sk-container-id-1 div.sk-item::before, #sk-container-id-1 div.sk-parallel-item::before {content: \"\";position: absolute;border-left: 1px solid gray;box-sizing: border-box;top: 0;bottom: 0;left: 50%;z-index: -1;}#sk-container-id-1 div.sk-parallel-item {display: flex;flex-direction: column;z-index: 1;position: relative;background-color: white;}#sk-container-id-1 div.sk-parallel-item:first-child::after {align-self: flex-end;width: 50%;}#sk-container-id-1 div.sk-parallel-item:last-child::after {align-self: flex-start;width: 50%;}#sk-container-id-1 div.sk-parallel-item:only-child::after {width: 0;}#sk-container-id-1 div.sk-dashed-wrapped {border: 1px dashed gray;margin: 0 0.4em 0.5em 0.4em;box-sizing: border-box;padding-bottom: 0.4em;background-color: white;}#sk-container-id-1 div.sk-label label {font-family: monospace;font-weight: bold;display: inline-block;line-height: 1.2em;}#sk-container-id-1 div.sk-label-container {text-align: center;}#sk-container-id-1 div.sk-container {/* jupyter's `normalize.less` sets `[hidden] { display: none; }` but bootstrap.min.css set `[hidden] { display: none !important; }` so we also need the `!important` here to be able to override the default hidden behavior on the sphinx rendered scikit-learn.org. See: https://github.com/scikit-learn/scikit-learn/issues/21755 */display: inline-block !important;position: relative;}#sk-container-id-1 div.sk-text-repr-fallback {display: none;}</style><div id=\"sk-container-id-1\" class=\"sk-top-container\"><div class=\"sk-text-repr-fallback\"><pre>LinearRegression()</pre><b>In a Jupyter environment, please rerun this cell to show the HTML representation or trust the notebook. <br />On GitHub, the HTML representation is unable to render, please try loading this page with nbviewer.org.</b></div><div class=\"sk-container\" hidden><div class=\"sk-item\"><div class=\"sk-estimator sk-toggleable\"><input class=\"sk-toggleable__control sk-hidden--visually\" id=\"sk-estimator-id-1\" type=\"checkbox\" checked><label for=\"sk-estimator-id-1\" class=\"sk-toggleable__label sk-toggleable__label-arrow\">LinearRegression</label><div class=\"sk-toggleable__content\"><pre>LinearRegression()</pre></div></div></div></div></div>"
      ],
      "text/plain": [
       "LinearRegression()"
      ]
     },
     "execution_count": 32,
     "metadata": {},
     "output_type": "execute_result"
    }
   ],
   "source": [
    "clf = LinearRegression()\n",
    "clf.fit(X_train, y_train)"
   ]
  },
  {
   "cell_type": "code",
   "execution_count": 34,
   "id": "710fcb70",
   "metadata": {},
   "outputs": [
    {
     "data": {
      "text/plain": [
       "array([104.71788304, 169.44564819, 199.13341466, 122.08146114,\n",
       "       175.58076095, 107.18758174, 120.97641274])"
      ]
     },
     "execution_count": 34,
     "metadata": {},
     "output_type": "execute_result"
    }
   ],
   "source": [
    "y_pred = clf.predict(X_test)\n",
    "y_pred"
   ]
  },
  {
   "cell_type": "markdown",
   "id": "386d023a",
   "metadata": {},
   "source": [
    "### Calculation of Root Mean Squared Error"
   ]
  },
  {
   "cell_type": "code",
   "execution_count": 35,
   "id": "c5368a53",
   "metadata": {},
   "outputs": [
    {
     "name": "stdout",
     "output_type": "stream",
     "text": [
      "Root Mean Squared Error (RMSE): 1.7050716709776987\n"
     ]
    }
   ],
   "source": [
    "rmse = np.sqrt(mean_squared_error(y_test, y_pred))\n",
    "print(\"Root Mean Squared Error (RMSE):\", rmse)"
   ]
  },
  {
   "cell_type": "markdown",
   "id": "ffd88aef",
   "metadata": {},
   "source": [
    "#### An RMSE of 3.25 suggests that, on average, our model's predictions are about 3.25 units away from the actual values. A smaller RMSE indicates greater accuracy for the model."
   ]
  },
  {
   "cell_type": "markdown",
   "id": "32e3d520",
   "metadata": {},
   "source": [
    "### Predicting both training and testing data"
   ]
  },
  {
   "cell_type": "code",
   "execution_count": 36,
   "id": "1a1a6f55",
   "metadata": {},
   "outputs": [],
   "source": [
    "y_train_pred = clf.predict(X_train)\n",
    "y_test_pred = clf.predict(X_test)"
   ]
  },
  {
   "cell_type": "code",
   "execution_count": 37,
   "id": "7c3de1ad",
   "metadata": {},
   "outputs": [],
   "source": [
    "train_rmse = np.sqrt(mean_squared_error(y_train, y_train_pred))\n",
    "test_rmse = np.sqrt(mean_squared_error(y_test, y_test_pred))"
   ]
  },
  {
   "cell_type": "code",
   "execution_count": 38,
   "id": "9bcd87f1",
   "metadata": {},
   "outputs": [
    {
     "name": "stdout",
     "output_type": "stream",
     "text": [
      "Training RMSE: 2.294934392748501\n",
      "Testing RMSE: 1.7050716709776987\n"
     ]
    }
   ],
   "source": [
    "print(\"Training RMSE:\", train_rmse)\n",
    "print(\"Testing RMSE:\", test_rmse)"
   ]
  },
  {
   "cell_type": "markdown",
   "id": "1459e371",
   "metadata": {},
   "source": [
    "##### The model may be overfitting."
   ]
  }
 ],
 "metadata": {
  "kernelspec": {
   "display_name": "Python 3 (ipykernel)",
   "language": "python",
   "name": "python3"
  },
  "language_info": {
   "codemirror_mode": {
    "name": "ipython",
    "version": 3
   },
   "file_extension": ".py",
   "mimetype": "text/x-python",
   "name": "python",
   "nbconvert_exporter": "python",
   "pygments_lexer": "ipython3",
   "version": "3.11.5"
  }
 },
 "nbformat": 4,
 "nbformat_minor": 5
}
